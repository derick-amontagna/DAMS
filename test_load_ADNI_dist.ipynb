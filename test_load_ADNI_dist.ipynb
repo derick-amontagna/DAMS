{
 "cells": [
  {
   "cell_type": "code",
   "execution_count": 3,
   "metadata": {},
   "outputs": [],
   "source": [
    "%load_ext autoreload\n",
    "%autoreload 2\n",
    "\n",
    "import os\n",
    "\n",
    "from torchvision.transforms import ToTensor\n",
    "import matplotlib.pyplot as plt\n",
    "\n",
    "from adni_2d import ADNIDataset2D\n",
    "import torchvision.transforms as transforms\n",
    "from dataset_train2D import RandomGenerator\n",
    "\n",
    "# Training settings\n",
    "batch_size = 32\n",
    "iteration = 10000\n",
    "lr = [0.001, 0.01]\n",
    "momentum = 0.9\n",
    "cuda = True\n",
    "seed = 8\n",
    "log_interval = 20\n",
    "l2_decay = 5e-4\n",
    "source1_name = \"GE\"\n",
    "source2_name = \"Philips\"\n",
    "target_name = \"Siemens\"\n",
    "dataset = \"ADNI1\"\n",
    "\n",
    "IMG_PATH = \"./Dataset/ADNI1\"\n",
    "results_dir = \"./Results\"\n",
    "img_size = 224\n",
    "num_workers = 4"
   ]
  },
  {
   "cell_type": "code",
   "execution_count": 9,
   "metadata": {},
   "outputs": [],
   "source": [
    "source_1 = ADNIDataset2D(\n",
    "    root=\"data\\\\preprocess\\\\ADNI1_T1_All_MRI\\\\6_step_nifti_2d\",\n",
    "    split='train',\n",
    "    domain=source1_name,\n",
    "    transform=None,\n",
    ")\n",
    "\n",
    "source_2 = ADNIDataset2D(\n",
    "    root=\"data\\\\preprocess\\\\ADNI1_T1_All_MRI\\\\6_step_nifti_2d\",\n",
    "    split='train',\n",
    "    domain=source2_name,\n",
    "    transform=None,\n",
    ")\n",
    "\n",
    "source_3 = ADNIDataset2D(\n",
    "    root=\"data\\\\preprocess\\\\ADNI1_T1_All_MRI\\\\6_step_nifti_2d\",\n",
    "    split='train',\n",
    "    domain=target_name,\n",
    "    transform=None,\n",
    ")"
   ]
  },
  {
   "cell_type": "code",
   "execution_count": 13,
   "metadata": {},
   "outputs": [
    {
     "data": {
      "text/plain": [
       "10208"
      ]
     },
     "execution_count": 13,
     "metadata": {},
     "output_type": "execute_result"
    }
   ],
   "source": [
    "#train\n",
    "len(source_1)"
   ]
  },
  {
   "cell_type": "code",
   "execution_count": 15,
   "metadata": {},
   "outputs": [
    {
     "ename": "AttributeError",
     "evalue": "'ADNIDataset2D' object has no attribute 'indices'",
     "output_type": "error",
     "traceback": [
      "\u001b[1;31m---------------------------------------------------------------------------\u001b[0m",
      "\u001b[1;31mAttributeError\u001b[0m                            Traceback (most recent call last)",
      "Cell \u001b[1;32mIn[15], line 2\u001b[0m\n\u001b[0;32m      1\u001b[0m \u001b[38;5;28;01mfrom\u001b[39;00m \u001b[38;5;21;01mcollections\u001b[39;00m \u001b[38;5;28;01mimport\u001b[39;00m Counter\n\u001b[1;32m----> 2\u001b[0m train_classes \u001b[38;5;241m=\u001b[39m [dataset\u001b[38;5;241m.\u001b[39mtargets[i] \u001b[38;5;28;01mfor\u001b[39;00m i \u001b[38;5;129;01min\u001b[39;00m \u001b[43msource_1\u001b[49m\u001b[38;5;241;43m.\u001b[39;49m\u001b[43mindices\u001b[49m]\n\u001b[0;32m      3\u001b[0m Counter(train_classes)\n",
      "\u001b[1;31mAttributeError\u001b[0m: 'ADNIDataset2D' object has no attribute 'indices'"
     ]
    }
   ],
   "source": [
    "from collections import Counter\n",
    "train_classes = [dataset.targets[i] for i in source_1.indices]\n",
    "Counter(train_classes)"
   ]
  },
  {
   "cell_type": "code",
   "execution_count": 11,
   "metadata": {},
   "outputs": [
    {
     "data": {
      "text/plain": [
       "3520"
      ]
     },
     "execution_count": 11,
     "metadata": {},
     "output_type": "execute_result"
    }
   ],
   "source": [
    "#val\n",
    "len(source_2)"
   ]
  },
  {
   "cell_type": "code",
   "execution_count": 12,
   "metadata": {},
   "outputs": [
    {
     "data": {
      "text/plain": [
       "11168"
      ]
     },
     "execution_count": 12,
     "metadata": {},
     "output_type": "execute_result"
    }
   ],
   "source": [
    "#test\n",
    "len(source_3)"
   ]
  },
  {
   "cell_type": "code",
   "execution_count": null,
   "metadata": {},
   "outputs": [],
   "source": []
  }
 ],
 "metadata": {
  "kernelspec": {
   "display_name": "py39Master",
   "language": "python",
   "name": "python3"
  },
  "language_info": {
   "codemirror_mode": {
    "name": "ipython",
    "version": 3
   },
   "file_extension": ".py",
   "mimetype": "text/x-python",
   "name": "python",
   "nbconvert_exporter": "python",
   "pygments_lexer": "ipython3",
   "version": "3.11.5"
  },
  "orig_nbformat": 4,
  "vscode": {
   "interpreter": {
    "hash": "9773b0ef4205406292d4fbeb64f9cabd4fdc37c4b26743eb41e9e7f2209a51e6"
   }
  }
 },
 "nbformat": 4,
 "nbformat_minor": 2
}
