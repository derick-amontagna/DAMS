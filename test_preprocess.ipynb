{
 "cells": [
  {
   "cell_type": "code",
   "execution_count": 1,
   "metadata": {},
   "outputs": [],
   "source": [
    "import os\n",
    "from Preprocessing.mri_toolkit import preprocess_pipeline"
   ]
  },
  {
   "cell_type": "code",
   "execution_count": 2,
   "metadata": {},
   "outputs": [],
   "source": [
    "BASE_DIR = os.path.dirname(os.path.abspath(\"__file__\"))"
   ]
  },
  {
   "cell_type": "code",
   "execution_count": 3,
   "metadata": {},
   "outputs": [
    {
     "name": "stderr",
     "output_type": "stream",
     "text": [
      "\u001b[32m2024-08-07 19:03:11.683\u001b[0m | \u001b[1mINFO    \u001b[0m | \u001b[36mPreprocessing.mri_toolkit\u001b[0m:\u001b[36mpreprocess_pipeline\u001b[0m:\u001b[36m360\u001b[0m - \u001b[1m1 Step - Transform Dicom to Nifti\u001b[0m\n",
      "\u001b[32m2024-08-07 19:03:11.684\u001b[0m | \u001b[1mINFO    \u001b[0m | \u001b[36mPreprocessing.mri_toolkit\u001b[0m:\u001b[36mverify_step\u001b[0m:\u001b[36m29\u001b[0m - \u001b[1mAlready done... Pass to next Step\u001b[0m\n",
      "\u001b[32m2024-08-07 19:03:11.685\u001b[0m | \u001b[1mINFO    \u001b[0m | \u001b[36mPreprocessing.mri_toolkit\u001b[0m:\u001b[36mpreprocess_pipeline\u001b[0m:\u001b[36m365\u001b[0m - \u001b[1m2 Step - Apply Skull Stripping\u001b[0m\n",
      "\u001b[32m2024-08-07 19:03:11.685\u001b[0m | \u001b[1mINFO    \u001b[0m | \u001b[36mPreprocessing.mri_toolkit\u001b[0m:\u001b[36mverify_step\u001b[0m:\u001b[36m29\u001b[0m - \u001b[1mAlready done... Pass to next Step\u001b[0m\n",
      "\u001b[32m2024-08-07 19:03:11.686\u001b[0m | \u001b[1mINFO    \u001b[0m | \u001b[36mPreprocessing.mri_toolkit\u001b[0m:\u001b[36mpreprocess_pipeline\u001b[0m:\u001b[36m370\u001b[0m - \u001b[1m3 Step - Apply Registration\u001b[0m\n",
      "\u001b[32m2024-08-07 19:03:11.686\u001b[0m | \u001b[1mINFO    \u001b[0m | \u001b[36mPreprocessing.mri_toolkit\u001b[0m:\u001b[36mverify_step\u001b[0m:\u001b[36m29\u001b[0m - \u001b[1mAlready done... Pass to next Step\u001b[0m\n",
      "\u001b[32m2024-08-07 19:03:11.687\u001b[0m | \u001b[1mINFO    \u001b[0m | \u001b[36mPreprocessing.mri_toolkit\u001b[0m:\u001b[36mpreprocess_pipeline\u001b[0m:\u001b[36m378\u001b[0m - \u001b[1m4 Step - Extract Relevant Slices\u001b[0m\n",
      "\u001b[32m2024-08-07 19:03:11.688\u001b[0m | \u001b[1mINFO    \u001b[0m | \u001b[36mPreprocessing.mri_toolkit\u001b[0m:\u001b[36mtransform_extract_relevant_slices\u001b[0m:\u001b[36m146\u001b[0m - \u001b[1mThe new directory is created! - c:\\Users\\doxda\\OneDrive\\Documentos\\Repos\\DAMS\\data\\preprocess\\ADNI1_T1_MRI\\4_step_relevant_slices\u001b[0m\n",
      "100%|██████████| 819/819 [02:54<00:00,  4.68it/s]\n",
      "\u001b[32m2024-08-07 19:06:06.613\u001b[0m | \u001b[1mINFO    \u001b[0m | \u001b[36mPreprocessing.mri_toolkit\u001b[0m:\u001b[36mpreprocess_pipeline\u001b[0m:\u001b[36m383\u001b[0m - \u001b[1m5 Step - Generate class folders\u001b[0m\n",
      "\u001b[32m2024-08-07 19:06:06.614\u001b[0m | \u001b[1mINFO    \u001b[0m | \u001b[36mPreprocessing.mri_toolkit\u001b[0m:\u001b[36mgen_class_folders\u001b[0m:\u001b[36m234\u001b[0m - \u001b[1mCreate the Domain Manufacturer\u001b[0m\n",
      "\u001b[32m2024-08-07 19:06:06.631\u001b[0m | \u001b[1mINFO    \u001b[0m | \u001b[36mPreprocessing.mri_toolkit\u001b[0m:\u001b[36mcreate_folder_and_move_image\u001b[0m:\u001b[36m200\u001b[0m - \u001b[1mThe new directory is created! - c:\\Users\\doxda\\OneDrive\\Documentos\\Repos\\DAMS\\data\\preprocess\\ADNI1_T1_MRI\\5_step_class_folders\\GE MEDICAL SYSTEMS\u001b[0m\n",
      "\u001b[32m2024-08-07 19:06:06.632\u001b[0m | \u001b[1mINFO    \u001b[0m | \u001b[36mPreprocessing.mri_toolkit\u001b[0m:\u001b[36mcreate_folder_and_move_image\u001b[0m:\u001b[36m200\u001b[0m - \u001b[1mThe new directory is created! - c:\\Users\\doxda\\OneDrive\\Documentos\\Repos\\DAMS\\data\\preprocess\\ADNI1_T1_MRI\\5_step_class_folders\\SIEMENS\u001b[0m\n",
      "\u001b[32m2024-08-07 19:06:06.632\u001b[0m | \u001b[1mINFO    \u001b[0m | \u001b[36mPreprocessing.mri_toolkit\u001b[0m:\u001b[36mcreate_folder_and_move_image\u001b[0m:\u001b[36m200\u001b[0m - \u001b[1mThe new directory is created! - c:\\Users\\doxda\\OneDrive\\Documentos\\Repos\\DAMS\\data\\preprocess\\ADNI1_T1_MRI\\5_step_class_folders\\Philips Medical Systems\u001b[0m\n",
      "\u001b[32m2024-08-07 19:06:06.636\u001b[0m | \u001b[1mINFO    \u001b[0m | \u001b[36mPreprocessing.mri_toolkit\u001b[0m:\u001b[36mcreate_folder_and_move_image\u001b[0m:\u001b[36m205\u001b[0m - \u001b[1mStarted copy the class! - GE MEDICAL SYSTEMS\u001b[0m\n",
      "100%|██████████| 397/397 [00:02<00:00, 135.50it/s]\n",
      "\u001b[32m2024-08-07 19:06:09.568\u001b[0m | \u001b[1mINFO    \u001b[0m | \u001b[36mPreprocessing.mri_toolkit\u001b[0m:\u001b[36mcreate_folder_and_move_image\u001b[0m:\u001b[36m205\u001b[0m - \u001b[1mStarted copy the class! - SIEMENS\u001b[0m\n",
      "100%|██████████| 323/323 [00:02<00:00, 141.11it/s]\n",
      "\u001b[32m2024-08-07 19:06:11.861\u001b[0m | \u001b[1mINFO    \u001b[0m | \u001b[36mPreprocessing.mri_toolkit\u001b[0m:\u001b[36mcreate_folder_and_move_image\u001b[0m:\u001b[36m205\u001b[0m - \u001b[1mStarted copy the class! - Philips Medical Systems\u001b[0m\n",
      "100%|██████████| 99/99 [00:00<00:00, 131.48it/s]\n",
      "\u001b[32m2024-08-07 19:06:12.620\u001b[0m | \u001b[1mINFO    \u001b[0m | \u001b[36mPreprocessing.mri_toolkit\u001b[0m:\u001b[36mcreate_folder_and_move_image\u001b[0m:\u001b[36m200\u001b[0m - \u001b[1mThe new directory is created! - c:\\Users\\doxda\\OneDrive\\Documentos\\Repos\\DAMS\\data\\preprocess\\ADNI1_T1_MRI\\5_step_class_folders\\GE MEDICAL SYSTEMS\\CN\u001b[0m\n",
      "\u001b[32m2024-08-07 19:06:12.621\u001b[0m | \u001b[1mINFO    \u001b[0m | \u001b[36mPreprocessing.mri_toolkit\u001b[0m:\u001b[36mcreate_folder_and_move_image\u001b[0m:\u001b[36m200\u001b[0m - \u001b[1mThe new directory is created! - c:\\Users\\doxda\\OneDrive\\Documentos\\Repos\\DAMS\\data\\preprocess\\ADNI1_T1_MRI\\5_step_class_folders\\GE MEDICAL SYSTEMS\\AD\u001b[0m\n",
      "\u001b[32m2024-08-07 19:06:12.622\u001b[0m | \u001b[1mINFO    \u001b[0m | \u001b[36mPreprocessing.mri_toolkit\u001b[0m:\u001b[36mcreate_folder_and_move_image\u001b[0m:\u001b[36m200\u001b[0m - \u001b[1mThe new directory is created! - c:\\Users\\doxda\\OneDrive\\Documentos\\Repos\\DAMS\\data\\preprocess\\ADNI1_T1_MRI\\5_step_class_folders\\GE MEDICAL SYSTEMS\\MCI\u001b[0m\n",
      "\u001b[32m2024-08-07 19:06:12.622\u001b[0m | \u001b[1mINFO    \u001b[0m | \u001b[36mPreprocessing.mri_toolkit\u001b[0m:\u001b[36mcreate_folder_and_move_image\u001b[0m:\u001b[36m205\u001b[0m - \u001b[1mStarted copy the class! - CN\u001b[0m\n",
      "100%|██████████| 107/107 [00:00<00:00, 1098.45it/s]\n",
      "\u001b[32m2024-08-07 19:06:12.722\u001b[0m | \u001b[1mINFO    \u001b[0m | \u001b[36mPreprocessing.mri_toolkit\u001b[0m:\u001b[36mcreate_folder_and_move_image\u001b[0m:\u001b[36m205\u001b[0m - \u001b[1mStarted copy the class! - AD\u001b[0m\n",
      "100%|██████████| 94/94 [00:00<00:00, 3075.89it/s]\n",
      "\u001b[32m2024-08-07 19:06:12.755\u001b[0m | \u001b[1mINFO    \u001b[0m | \u001b[36mPreprocessing.mri_toolkit\u001b[0m:\u001b[36mcreate_folder_and_move_image\u001b[0m:\u001b[36m205\u001b[0m - \u001b[1mStarted copy the class! - MCI\u001b[0m\n",
      "100%|██████████| 196/196 [00:00<00:00, 3141.44it/s]\n",
      "\u001b[32m2024-08-07 19:06:12.821\u001b[0m | \u001b[1mINFO    \u001b[0m | \u001b[36mPreprocessing.mri_toolkit\u001b[0m:\u001b[36mcreate_folder_and_move_image\u001b[0m:\u001b[36m200\u001b[0m - \u001b[1mThe new directory is created! - c:\\Users\\doxda\\OneDrive\\Documentos\\Repos\\DAMS\\data\\preprocess\\ADNI1_T1_MRI\\5_step_class_folders\\SIEMENS\\CN\u001b[0m\n",
      "\u001b[32m2024-08-07 19:06:12.822\u001b[0m | \u001b[1mINFO    \u001b[0m | \u001b[36mPreprocessing.mri_toolkit\u001b[0m:\u001b[36mcreate_folder_and_move_image\u001b[0m:\u001b[36m200\u001b[0m - \u001b[1mThe new directory is created! - c:\\Users\\doxda\\OneDrive\\Documentos\\Repos\\DAMS\\data\\preprocess\\ADNI1_T1_MRI\\5_step_class_folders\\SIEMENS\\MCI\u001b[0m\n",
      "\u001b[32m2024-08-07 19:06:12.823\u001b[0m | \u001b[1mINFO    \u001b[0m | \u001b[36mPreprocessing.mri_toolkit\u001b[0m:\u001b[36mcreate_folder_and_move_image\u001b[0m:\u001b[36m200\u001b[0m - \u001b[1mThe new directory is created! - c:\\Users\\doxda\\OneDrive\\Documentos\\Repos\\DAMS\\data\\preprocess\\ADNI1_T1_MRI\\5_step_class_folders\\SIEMENS\\AD\u001b[0m\n",
      "\u001b[32m2024-08-07 19:06:12.823\u001b[0m | \u001b[1mINFO    \u001b[0m | \u001b[36mPreprocessing.mri_toolkit\u001b[0m:\u001b[36mcreate_folder_and_move_image\u001b[0m:\u001b[36m205\u001b[0m - \u001b[1mStarted copy the class! - CN\u001b[0m\n",
      "100%|██████████| 91/91 [00:00<00:00, 3185.27it/s]\n",
      "\u001b[32m2024-08-07 19:06:12.855\u001b[0m | \u001b[1mINFO    \u001b[0m | \u001b[36mPreprocessing.mri_toolkit\u001b[0m:\u001b[36mcreate_folder_and_move_image\u001b[0m:\u001b[36m205\u001b[0m - \u001b[1mStarted copy the class! - MCI\u001b[0m\n",
      "100%|██████████| 161/161 [00:00<00:00, 3172.62it/s]\n",
      "\u001b[32m2024-08-07 19:06:12.908\u001b[0m | \u001b[1mINFO    \u001b[0m | \u001b[36mPreprocessing.mri_toolkit\u001b[0m:\u001b[36mcreate_folder_and_move_image\u001b[0m:\u001b[36m205\u001b[0m - \u001b[1mStarted copy the class! - AD\u001b[0m\n",
      "100%|██████████| 71/71 [00:00<00:00, 2949.90it/s]\n",
      "\u001b[32m2024-08-07 19:06:12.935\u001b[0m | \u001b[1mINFO    \u001b[0m | \u001b[36mPreprocessing.mri_toolkit\u001b[0m:\u001b[36mcreate_folder_and_move_image\u001b[0m:\u001b[36m200\u001b[0m - \u001b[1mThe new directory is created! - c:\\Users\\doxda\\OneDrive\\Documentos\\Repos\\DAMS\\data\\preprocess\\ADNI1_T1_MRI\\5_step_class_folders\\Philips Medical Systems\\CN\u001b[0m\n",
      "\u001b[32m2024-08-07 19:06:12.936\u001b[0m | \u001b[1mINFO    \u001b[0m | \u001b[36mPreprocessing.mri_toolkit\u001b[0m:\u001b[36mcreate_folder_and_move_image\u001b[0m:\u001b[36m200\u001b[0m - \u001b[1mThe new directory is created! - c:\\Users\\doxda\\OneDrive\\Documentos\\Repos\\DAMS\\data\\preprocess\\ADNI1_T1_MRI\\5_step_class_folders\\Philips Medical Systems\\MCI\u001b[0m\n",
      "\u001b[32m2024-08-07 19:06:12.937\u001b[0m | \u001b[1mINFO    \u001b[0m | \u001b[36mPreprocessing.mri_toolkit\u001b[0m:\u001b[36mcreate_folder_and_move_image\u001b[0m:\u001b[36m200\u001b[0m - \u001b[1mThe new directory is created! - c:\\Users\\doxda\\OneDrive\\Documentos\\Repos\\DAMS\\data\\preprocess\\ADNI1_T1_MRI\\5_step_class_folders\\Philips Medical Systems\\AD\u001b[0m\n",
      "\u001b[32m2024-08-07 19:06:12.937\u001b[0m | \u001b[1mINFO    \u001b[0m | \u001b[36mPreprocessing.mri_toolkit\u001b[0m:\u001b[36mcreate_folder_and_move_image\u001b[0m:\u001b[36m205\u001b[0m - \u001b[1mStarted copy the class! - CN\u001b[0m\n",
      "100%|██████████| 29/29 [00:00<00:00, 3051.17it/s]\n",
      "\u001b[32m2024-08-07 19:06:12.949\u001b[0m | \u001b[1mINFO    \u001b[0m | \u001b[36mPreprocessing.mri_toolkit\u001b[0m:\u001b[36mcreate_folder_and_move_image\u001b[0m:\u001b[36m205\u001b[0m - \u001b[1mStarted copy the class! - MCI\u001b[0m\n",
      "100%|██████████| 47/47 [00:00<00:00, 3126.16it/s]\n",
      "\u001b[32m2024-08-07 19:06:12.967\u001b[0m | \u001b[1mINFO    \u001b[0m | \u001b[36mPreprocessing.mri_toolkit\u001b[0m:\u001b[36mcreate_folder_and_move_image\u001b[0m:\u001b[36m205\u001b[0m - \u001b[1mStarted copy the class! - AD\u001b[0m\n",
      "100%|██████████| 23/23 [00:00<00:00, 2655.21it/s]\n",
      "\u001b[32m2024-08-07 19:06:12.976\u001b[0m | \u001b[1mINFO    \u001b[0m | \u001b[36mPreprocessing.mri_toolkit\u001b[0m:\u001b[36mpreprocess_pipeline\u001b[0m:\u001b[36m393\u001b[0m - \u001b[1m6 Step - Transform images 3D to 2D - Optional\u001b[0m\n",
      "\u001b[32m2024-08-07 19:06:12.977\u001b[0m | \u001b[1mINFO    \u001b[0m | \u001b[36mPreprocessing.mri_toolkit\u001b[0m:\u001b[36mtransform_3d_to_2d\u001b[0m:\u001b[36m309\u001b[0m - \u001b[1mThe new directory is created! - c:\\Users\\doxda\\OneDrive\\Documentos\\Repos\\DAMS\\data\\preprocess\\ADNI1_T1_MRI\\6_step_nifti_2d\u001b[0m\n",
      "\u001b[32m2024-08-07 19:06:12.985\u001b[0m | \u001b[1mINFO    \u001b[0m | \u001b[36mPreprocessing.mri_toolkit\u001b[0m:\u001b[36mtransform_3d_to_2d\u001b[0m:\u001b[36m321\u001b[0m - \u001b[1mCreate the Domain Manufacturer\u001b[0m\n",
      "\u001b[32m2024-08-07 19:06:12.985\u001b[0m | \u001b[1mINFO    \u001b[0m | \u001b[36mPreprocessing.mri_toolkit\u001b[0m:\u001b[36mgen_3d_to_2d\u001b[0m:\u001b[36m278\u001b[0m - \u001b[1mStarted copy the class! - GE MEDICAL SYSTEMS\\AD\u001b[0m\n",
      "\u001b[32m2024-08-07 19:06:12.986\u001b[0m | \u001b[1mINFO    \u001b[0m | \u001b[36mPreprocessing.mri_toolkit\u001b[0m:\u001b[36mgen_3d_to_2d\u001b[0m:\u001b[36m282\u001b[0m - \u001b[1mThe new directory is created! - c:\\Users\\doxda\\OneDrive\\Documentos\\Repos\\DAMS\\data\\preprocess\\ADNI1_T1_MRI\\6_step_nifti_2d\\GE MEDICAL SYSTEMS\\AD\u001b[0m\n",
      "100%|██████████| 94/94 [00:12<00:00,  7.40it/s]\n",
      "\u001b[32m2024-08-07 19:06:25.694\u001b[0m | \u001b[1mINFO    \u001b[0m | \u001b[36mPreprocessing.mri_toolkit\u001b[0m:\u001b[36mgen_3d_to_2d\u001b[0m:\u001b[36m278\u001b[0m - \u001b[1mStarted copy the class! - GE MEDICAL SYSTEMS\\CN\u001b[0m\n",
      "\u001b[32m2024-08-07 19:06:25.695\u001b[0m | \u001b[1mINFO    \u001b[0m | \u001b[36mPreprocessing.mri_toolkit\u001b[0m:\u001b[36mgen_3d_to_2d\u001b[0m:\u001b[36m282\u001b[0m - \u001b[1mThe new directory is created! - c:\\Users\\doxda\\OneDrive\\Documentos\\Repos\\DAMS\\data\\preprocess\\ADNI1_T1_MRI\\6_step_nifti_2d\\GE MEDICAL SYSTEMS\\CN\u001b[0m\n",
      "100%|██████████| 107/107 [00:15<00:00,  7.03it/s]\n",
      "\u001b[32m2024-08-07 19:06:40.921\u001b[0m | \u001b[1mINFO    \u001b[0m | \u001b[36mPreprocessing.mri_toolkit\u001b[0m:\u001b[36mgen_3d_to_2d\u001b[0m:\u001b[36m278\u001b[0m - \u001b[1mStarted copy the class! - GE MEDICAL SYSTEMS\\MCI\u001b[0m\n",
      "\u001b[32m2024-08-07 19:06:40.922\u001b[0m | \u001b[1mINFO    \u001b[0m | \u001b[36mPreprocessing.mri_toolkit\u001b[0m:\u001b[36mgen_3d_to_2d\u001b[0m:\u001b[36m282\u001b[0m - \u001b[1mThe new directory is created! - c:\\Users\\doxda\\OneDrive\\Documentos\\Repos\\DAMS\\data\\preprocess\\ADNI1_T1_MRI\\6_step_nifti_2d\\GE MEDICAL SYSTEMS\\MCI\u001b[0m\n",
      "100%|██████████| 196/196 [00:26<00:00,  7.31it/s]\n",
      "\u001b[32m2024-08-07 19:07:07.727\u001b[0m | \u001b[1mINFO    \u001b[0m | \u001b[36mPreprocessing.mri_toolkit\u001b[0m:\u001b[36mgen_3d_to_2d\u001b[0m:\u001b[36m278\u001b[0m - \u001b[1mStarted copy the class! - Philips Medical Systems\\AD\u001b[0m\n",
      "\u001b[32m2024-08-07 19:07:07.728\u001b[0m | \u001b[1mINFO    \u001b[0m | \u001b[36mPreprocessing.mri_toolkit\u001b[0m:\u001b[36mgen_3d_to_2d\u001b[0m:\u001b[36m282\u001b[0m - \u001b[1mThe new directory is created! - c:\\Users\\doxda\\OneDrive\\Documentos\\Repos\\DAMS\\data\\preprocess\\ADNI1_T1_MRI\\6_step_nifti_2d\\Philips Medical Systems\\AD\u001b[0m\n",
      "100%|██████████| 23/23 [00:03<00:00,  6.96it/s]\n",
      "\u001b[32m2024-08-07 19:07:11.035\u001b[0m | \u001b[1mINFO    \u001b[0m | \u001b[36mPreprocessing.mri_toolkit\u001b[0m:\u001b[36mgen_3d_to_2d\u001b[0m:\u001b[36m278\u001b[0m - \u001b[1mStarted copy the class! - Philips Medical Systems\\CN\u001b[0m\n",
      "\u001b[32m2024-08-07 19:07:11.036\u001b[0m | \u001b[1mINFO    \u001b[0m | \u001b[36mPreprocessing.mri_toolkit\u001b[0m:\u001b[36mgen_3d_to_2d\u001b[0m:\u001b[36m282\u001b[0m - \u001b[1mThe new directory is created! - c:\\Users\\doxda\\OneDrive\\Documentos\\Repos\\DAMS\\data\\preprocess\\ADNI1_T1_MRI\\6_step_nifti_2d\\Philips Medical Systems\\CN\u001b[0m\n",
      "100%|██████████| 29/29 [00:04<00:00,  6.97it/s]\n",
      "\u001b[32m2024-08-07 19:07:15.199\u001b[0m | \u001b[1mINFO    \u001b[0m | \u001b[36mPreprocessing.mri_toolkit\u001b[0m:\u001b[36mgen_3d_to_2d\u001b[0m:\u001b[36m278\u001b[0m - \u001b[1mStarted copy the class! - Philips Medical Systems\\MCI\u001b[0m\n",
      "\u001b[32m2024-08-07 19:07:15.199\u001b[0m | \u001b[1mINFO    \u001b[0m | \u001b[36mPreprocessing.mri_toolkit\u001b[0m:\u001b[36mgen_3d_to_2d\u001b[0m:\u001b[36m282\u001b[0m - \u001b[1mThe new directory is created! - c:\\Users\\doxda\\OneDrive\\Documentos\\Repos\\DAMS\\data\\preprocess\\ADNI1_T1_MRI\\6_step_nifti_2d\\Philips Medical Systems\\MCI\u001b[0m\n",
      "100%|██████████| 47/47 [00:06<00:00,  7.36it/s]\n",
      "\u001b[32m2024-08-07 19:07:21.585\u001b[0m | \u001b[1mINFO    \u001b[0m | \u001b[36mPreprocessing.mri_toolkit\u001b[0m:\u001b[36mgen_3d_to_2d\u001b[0m:\u001b[36m278\u001b[0m - \u001b[1mStarted copy the class! - SIEMENS\\AD\u001b[0m\n",
      "\u001b[32m2024-08-07 19:07:21.587\u001b[0m | \u001b[1mINFO    \u001b[0m | \u001b[36mPreprocessing.mri_toolkit\u001b[0m:\u001b[36mgen_3d_to_2d\u001b[0m:\u001b[36m282\u001b[0m - \u001b[1mThe new directory is created! - c:\\Users\\doxda\\OneDrive\\Documentos\\Repos\\DAMS\\data\\preprocess\\ADNI1_T1_MRI\\6_step_nifti_2d\\SIEMENS\\AD\u001b[0m\n",
      "100%|██████████| 71/71 [00:09<00:00,  7.34it/s]\n",
      "\u001b[32m2024-08-07 19:07:31.261\u001b[0m | \u001b[1mINFO    \u001b[0m | \u001b[36mPreprocessing.mri_toolkit\u001b[0m:\u001b[36mgen_3d_to_2d\u001b[0m:\u001b[36m278\u001b[0m - \u001b[1mStarted copy the class! - SIEMENS\\CN\u001b[0m\n",
      "\u001b[32m2024-08-07 19:07:31.262\u001b[0m | \u001b[1mINFO    \u001b[0m | \u001b[36mPreprocessing.mri_toolkit\u001b[0m:\u001b[36mgen_3d_to_2d\u001b[0m:\u001b[36m282\u001b[0m - \u001b[1mThe new directory is created! - c:\\Users\\doxda\\OneDrive\\Documentos\\Repos\\DAMS\\data\\preprocess\\ADNI1_T1_MRI\\6_step_nifti_2d\\SIEMENS\\CN\u001b[0m\n",
      "100%|██████████| 91/91 [00:12<00:00,  7.41it/s]\n",
      "\u001b[32m2024-08-07 19:07:43.540\u001b[0m | \u001b[1mINFO    \u001b[0m | \u001b[36mPreprocessing.mri_toolkit\u001b[0m:\u001b[36mgen_3d_to_2d\u001b[0m:\u001b[36m278\u001b[0m - \u001b[1mStarted copy the class! - SIEMENS\\MCI\u001b[0m\n",
      "\u001b[32m2024-08-07 19:07:43.541\u001b[0m | \u001b[1mINFO    \u001b[0m | \u001b[36mPreprocessing.mri_toolkit\u001b[0m:\u001b[36mgen_3d_to_2d\u001b[0m:\u001b[36m282\u001b[0m - \u001b[1mThe new directory is created! - c:\\Users\\doxda\\OneDrive\\Documentos\\Repos\\DAMS\\data\\preprocess\\ADNI1_T1_MRI\\6_step_nifti_2d\\SIEMENS\\MCI\u001b[0m\n",
      "100%|██████████| 161/161 [00:21<00:00,  7.49it/s]\n"
     ]
    }
   ],
   "source": [
    "preprocess_pipeline(\n",
    "    origin_path=r\"C:\\Users\\doxda\\OneDrive\\Documentos\\Repos\\masters-degree-data-shift\\data\\ADNI1\\Image\\ADNI1-Screening-Dicom\",\n",
    "    df_path=r\"C:\\Users\\doxda\\OneDrive\\Documentos\\Repos\\masters-degree-data-shift\\analytics\\ADNI1\\ADNI1-Screening-T1-Original-Collect.csv\",\n",
    "    dataset_name=\"ADNI1_T1_MRI\",\n",
    "    gen_2d=True,\n",
    "    column_class=\"Research Group\",\n",
    "    domain_manufacturer=True,\n",
    "    domain_model=False,\n",
    ")"
   ]
  }
 ],
 "metadata": {
  "kernelspec": {
   "display_name": ".venv",
   "language": "python",
   "name": "python3"
  },
  "language_info": {
   "codemirror_mode": {
    "name": "ipython",
    "version": 3
   },
   "file_extension": ".py",
   "mimetype": "text/x-python",
   "name": "python",
   "nbconvert_exporter": "python",
   "pygments_lexer": "ipython3",
   "version": "3.11.5"
  }
 },
 "nbformat": 4,
 "nbformat_minor": 2
}
