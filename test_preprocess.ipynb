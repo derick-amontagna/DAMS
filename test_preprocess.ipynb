{
 "cells": [
  {
   "cell_type": "code",
   "execution_count": 1,
   "metadata": {},
   "outputs": [],
   "source": [
    "import os\n",
    "from Preprocessing.mri_toolkit import preprocess_pipeline"
   ]
  },
  {
   "cell_type": "code",
   "execution_count": 2,
   "metadata": {},
   "outputs": [],
   "source": [
    "BASE_DIR = os.path.dirname(os.path.abspath(\"__file__\"))"
   ]
  },
  {
   "cell_type": "code",
   "execution_count": 3,
   "metadata": {},
   "outputs": [
    {
     "name": "stderr",
     "output_type": "stream",
     "text": [
      "\u001b[32m2024-09-03 19:47:37.838\u001b[0m | \u001b[1mINFO    \u001b[0m | \u001b[36mPreprocessing.mri_toolkit\u001b[0m:\u001b[36mpreprocess_pipeline\u001b[0m:\u001b[36m510\u001b[0m - \u001b[1m1 Step - Transform Dicom to Nifti\u001b[0m\n",
      "\u001b[32m2024-09-03 19:47:37.838\u001b[0m | \u001b[1mINFO    \u001b[0m | \u001b[36mPreprocessing.mri_toolkit\u001b[0m:\u001b[36mverify_step\u001b[0m:\u001b[36m30\u001b[0m - \u001b[1mAlready done... Pass to next Step\u001b[0m\n",
      "\u001b[32m2024-09-03 19:47:37.839\u001b[0m | \u001b[1mINFO    \u001b[0m | \u001b[36mPreprocessing.mri_toolkit\u001b[0m:\u001b[36mpreprocess_pipeline\u001b[0m:\u001b[36m515\u001b[0m - \u001b[1m2 Step - Apply Skull Stripping\u001b[0m\n",
      "\u001b[32m2024-09-03 19:47:37.839\u001b[0m | \u001b[1mINFO    \u001b[0m | \u001b[36mPreprocessing.mri_toolkit\u001b[0m:\u001b[36mverify_step\u001b[0m:\u001b[36m30\u001b[0m - \u001b[1mAlready done... Pass to next Step\u001b[0m\n",
      "\u001b[32m2024-09-03 19:47:37.840\u001b[0m | \u001b[1mINFO    \u001b[0m | \u001b[36mPreprocessing.mri_toolkit\u001b[0m:\u001b[36mpreprocess_pipeline\u001b[0m:\u001b[36m520\u001b[0m - \u001b[1m3 Step - Apply Registration\u001b[0m\n",
      "\u001b[32m2024-09-03 19:47:37.840\u001b[0m | \u001b[1mINFO    \u001b[0m | \u001b[36mPreprocessing.mri_toolkit\u001b[0m:\u001b[36mverify_step\u001b[0m:\u001b[36m30\u001b[0m - \u001b[1mAlready done... Pass to next Step\u001b[0m\n",
      "\u001b[32m2024-09-03 19:47:37.840\u001b[0m | \u001b[1mINFO    \u001b[0m | \u001b[36mPreprocessing.mri_toolkit\u001b[0m:\u001b[36mpreprocess_pipeline\u001b[0m:\u001b[36m528\u001b[0m - \u001b[1m4 Step - Extract Relevant Slices\u001b[0m\n",
      "\u001b[32m2024-09-03 19:47:37.841\u001b[0m | \u001b[1mINFO    \u001b[0m | \u001b[36mPreprocessing.mri_toolkit\u001b[0m:\u001b[36mverify_step\u001b[0m:\u001b[36m30\u001b[0m - \u001b[1mAlready done... Pass to next Step\u001b[0m\n",
      "\u001b[32m2024-09-03 19:47:37.841\u001b[0m | \u001b[1mINFO    \u001b[0m | \u001b[36mPreprocessing.mri_toolkit\u001b[0m:\u001b[36mpreprocess_pipeline\u001b[0m:\u001b[36m533\u001b[0m - \u001b[1m5 Step - Generate class folders\u001b[0m\n",
      "\u001b[32m2024-09-03 19:47:37.845\u001b[0m | \u001b[1mINFO    \u001b[0m | \u001b[36mPreprocessing.mri_toolkit\u001b[0m:\u001b[36mgen_class_folders\u001b[0m:\u001b[36m361\u001b[0m - \u001b[1mCreate the With Domain\u001b[0m\n"
     ]
    },
    {
     "name": "stdout",
     "output_type": "stream",
     "text": [
      "The split for the domain GE MEDICAL SYSTEMS is: Train:639 / Val:113 / Test:133\n",
      "The split for the domain Philips Medical Systems is: Train:205 / Val:37 / Test:43\n",
      "The split for the domain SIEMENS is: Train:678 / Val:120 / Test:141\n"
     ]
    },
    {
     "name": "stderr",
     "output_type": "stream",
     "text": [
      "\u001b[32m2024-09-03 19:47:53.739\u001b[0m | \u001b[1mINFO    \u001b[0m | \u001b[36mPreprocessing.mri_toolkit\u001b[0m:\u001b[36mpreprocess_pipeline\u001b[0m:\u001b[36m546\u001b[0m - \u001b[1m6 Step - Transform images 3D to 2D - Optional\u001b[0m\n",
      "\u001b[32m2024-09-03 19:47:53.740\u001b[0m | \u001b[1mINFO    \u001b[0m | \u001b[36mPreprocessing.mri_toolkit\u001b[0m:\u001b[36mtransform_3d_to_2d\u001b[0m:\u001b[36m481\u001b[0m - \u001b[1mThe new directory is created! - c:\\Users\\doxda\\OneDrive\\Documentos\\Repos\\DAMS\\data\\preprocess\\ADNI1_T1_All_MRI\\6_step_nifti_2d\u001b[0m\n",
      "\u001b[32m2024-09-03 19:47:53.743\u001b[0m | \u001b[1mINFO    \u001b[0m | \u001b[36mPreprocessing.mri_toolkit\u001b[0m:\u001b[36mgen_3d_to_2d\u001b[0m:\u001b[36m450\u001b[0m - \u001b[1mStarted copy the class! - GE MEDICAL SYSTEMS\\test\\AD\u001b[0m\n",
      "\u001b[32m2024-09-03 19:47:53.744\u001b[0m | \u001b[1mINFO    \u001b[0m | \u001b[36mPreprocessing.mri_toolkit\u001b[0m:\u001b[36mgen_3d_to_2d\u001b[0m:\u001b[36m454\u001b[0m - \u001b[1mThe new directory is created! - c:\\Users\\doxda\\OneDrive\\Documentos\\Repos\\DAMS\\data\\preprocess\\ADNI1_T1_All_MRI\\6_step_nifti_2d\\GE MEDICAL SYSTEMS\\test\\AD\u001b[0m\n",
      "100%|██████████| 29/29 [00:03<00:00,  7.71it/s]\n",
      "\u001b[32m2024-09-03 19:47:57.509\u001b[0m | \u001b[1mINFO    \u001b[0m | \u001b[36mPreprocessing.mri_toolkit\u001b[0m:\u001b[36mgen_3d_to_2d\u001b[0m:\u001b[36m450\u001b[0m - \u001b[1mStarted copy the class! - GE MEDICAL SYSTEMS\\test\\CN\u001b[0m\n",
      "\u001b[32m2024-09-03 19:47:57.510\u001b[0m | \u001b[1mINFO    \u001b[0m | \u001b[36mPreprocessing.mri_toolkit\u001b[0m:\u001b[36mgen_3d_to_2d\u001b[0m:\u001b[36m454\u001b[0m - \u001b[1mThe new directory is created! - c:\\Users\\doxda\\OneDrive\\Documentos\\Repos\\DAMS\\data\\preprocess\\ADNI1_T1_All_MRI\\6_step_nifti_2d\\GE MEDICAL SYSTEMS\\test\\CN\u001b[0m\n",
      "100%|██████████| 37/37 [00:04<00:00,  7.74it/s]\n",
      "\u001b[32m2024-09-03 19:48:02.294\u001b[0m | \u001b[1mINFO    \u001b[0m | \u001b[36mPreprocessing.mri_toolkit\u001b[0m:\u001b[36mgen_3d_to_2d\u001b[0m:\u001b[36m450\u001b[0m - \u001b[1mStarted copy the class! - GE MEDICAL SYSTEMS\\test\\MCI\u001b[0m\n",
      "\u001b[32m2024-09-03 19:48:02.295\u001b[0m | \u001b[1mINFO    \u001b[0m | \u001b[36mPreprocessing.mri_toolkit\u001b[0m:\u001b[36mgen_3d_to_2d\u001b[0m:\u001b[36m454\u001b[0m - \u001b[1mThe new directory is created! - c:\\Users\\doxda\\OneDrive\\Documentos\\Repos\\DAMS\\data\\preprocess\\ADNI1_T1_All_MRI\\6_step_nifti_2d\\GE MEDICAL SYSTEMS\\test\\MCI\u001b[0m\n",
      "100%|██████████| 67/67 [00:08<00:00,  7.47it/s]\n",
      "\u001b[32m2024-09-03 19:48:11.263\u001b[0m | \u001b[1mINFO    \u001b[0m | \u001b[36mPreprocessing.mri_toolkit\u001b[0m:\u001b[36mgen_3d_to_2d\u001b[0m:\u001b[36m450\u001b[0m - \u001b[1mStarted copy the class! - GE MEDICAL SYSTEMS\\train\\AD\u001b[0m\n",
      "\u001b[32m2024-09-03 19:48:11.264\u001b[0m | \u001b[1mINFO    \u001b[0m | \u001b[36mPreprocessing.mri_toolkit\u001b[0m:\u001b[36mgen_3d_to_2d\u001b[0m:\u001b[36m454\u001b[0m - \u001b[1mThe new directory is created! - c:\\Users\\doxda\\OneDrive\\Documentos\\Repos\\DAMS\\data\\preprocess\\ADNI1_T1_All_MRI\\6_step_nifti_2d\\GE MEDICAL SYSTEMS\\train\\AD\u001b[0m\n",
      "100%|██████████| 139/139 [00:18<00:00,  7.60it/s]\n",
      "\u001b[32m2024-09-03 19:48:29.555\u001b[0m | \u001b[1mINFO    \u001b[0m | \u001b[36mPreprocessing.mri_toolkit\u001b[0m:\u001b[36mgen_3d_to_2d\u001b[0m:\u001b[36m450\u001b[0m - \u001b[1mStarted copy the class! - GE MEDICAL SYSTEMS\\train\\CN\u001b[0m\n",
      "\u001b[32m2024-09-03 19:48:29.556\u001b[0m | \u001b[1mINFO    \u001b[0m | \u001b[36mPreprocessing.mri_toolkit\u001b[0m:\u001b[36mgen_3d_to_2d\u001b[0m:\u001b[36m454\u001b[0m - \u001b[1mThe new directory is created! - c:\\Users\\doxda\\OneDrive\\Documentos\\Repos\\DAMS\\data\\preprocess\\ADNI1_T1_All_MRI\\6_step_nifti_2d\\GE MEDICAL SYSTEMS\\train\\CN\u001b[0m\n",
      "100%|██████████| 180/180 [00:23<00:00,  7.68it/s]\n",
      "\u001b[32m2024-09-03 19:48:53.010\u001b[0m | \u001b[1mINFO    \u001b[0m | \u001b[36mPreprocessing.mri_toolkit\u001b[0m:\u001b[36mgen_3d_to_2d\u001b[0m:\u001b[36m450\u001b[0m - \u001b[1mStarted copy the class! - GE MEDICAL SYSTEMS\\train\\MCI\u001b[0m\n",
      "\u001b[32m2024-09-03 19:48:53.011\u001b[0m | \u001b[1mINFO    \u001b[0m | \u001b[36mPreprocessing.mri_toolkit\u001b[0m:\u001b[36mgen_3d_to_2d\u001b[0m:\u001b[36m454\u001b[0m - \u001b[1mThe new directory is created! - c:\\Users\\doxda\\OneDrive\\Documentos\\Repos\\DAMS\\data\\preprocess\\ADNI1_T1_All_MRI\\6_step_nifti_2d\\GE MEDICAL SYSTEMS\\train\\MCI\u001b[0m\n",
      "100%|██████████| 320/320 [00:41<00:00,  7.71it/s]\n",
      "\u001b[32m2024-09-03 19:49:34.538\u001b[0m | \u001b[1mINFO    \u001b[0m | \u001b[36mPreprocessing.mri_toolkit\u001b[0m:\u001b[36mgen_3d_to_2d\u001b[0m:\u001b[36m450\u001b[0m - \u001b[1mStarted copy the class! - GE MEDICAL SYSTEMS\\val\\AD\u001b[0m\n",
      "\u001b[32m2024-09-03 19:49:34.539\u001b[0m | \u001b[1mINFO    \u001b[0m | \u001b[36mPreprocessing.mri_toolkit\u001b[0m:\u001b[36mgen_3d_to_2d\u001b[0m:\u001b[36m454\u001b[0m - \u001b[1mThe new directory is created! - c:\\Users\\doxda\\OneDrive\\Documentos\\Repos\\DAMS\\data\\preprocess\\ADNI1_T1_All_MRI\\6_step_nifti_2d\\GE MEDICAL SYSTEMS\\val\\AD\u001b[0m\n",
      "100%|██████████| 25/25 [00:03<00:00,  7.67it/s]\n",
      "\u001b[32m2024-09-03 19:49:37.798\u001b[0m | \u001b[1mINFO    \u001b[0m | \u001b[36mPreprocessing.mri_toolkit\u001b[0m:\u001b[36mgen_3d_to_2d\u001b[0m:\u001b[36m450\u001b[0m - \u001b[1mStarted copy the class! - GE MEDICAL SYSTEMS\\val\\CN\u001b[0m\n",
      "\u001b[32m2024-09-03 19:49:37.799\u001b[0m | \u001b[1mINFO    \u001b[0m | \u001b[36mPreprocessing.mri_toolkit\u001b[0m:\u001b[36mgen_3d_to_2d\u001b[0m:\u001b[36m454\u001b[0m - \u001b[1mThe new directory is created! - c:\\Users\\doxda\\OneDrive\\Documentos\\Repos\\DAMS\\data\\preprocess\\ADNI1_T1_All_MRI\\6_step_nifti_2d\\GE MEDICAL SYSTEMS\\val\\CN\u001b[0m\n",
      "100%|██████████| 32/32 [00:04<00:00,  7.59it/s]\n",
      "\u001b[32m2024-09-03 19:49:42.017\u001b[0m | \u001b[1mINFO    \u001b[0m | \u001b[36mPreprocessing.mri_toolkit\u001b[0m:\u001b[36mgen_3d_to_2d\u001b[0m:\u001b[36m450\u001b[0m - \u001b[1mStarted copy the class! - GE MEDICAL SYSTEMS\\val\\MCI\u001b[0m\n",
      "\u001b[32m2024-09-03 19:49:42.018\u001b[0m | \u001b[1mINFO    \u001b[0m | \u001b[36mPreprocessing.mri_toolkit\u001b[0m:\u001b[36mgen_3d_to_2d\u001b[0m:\u001b[36m454\u001b[0m - \u001b[1mThe new directory is created! - c:\\Users\\doxda\\OneDrive\\Documentos\\Repos\\DAMS\\data\\preprocess\\ADNI1_T1_All_MRI\\6_step_nifti_2d\\GE MEDICAL SYSTEMS\\val\\MCI\u001b[0m\n",
      "100%|██████████| 56/56 [00:07<00:00,  7.77it/s]\n",
      "\u001b[32m2024-09-03 19:49:49.227\u001b[0m | \u001b[1mINFO    \u001b[0m | \u001b[36mPreprocessing.mri_toolkit\u001b[0m:\u001b[36mgen_3d_to_2d\u001b[0m:\u001b[36m450\u001b[0m - \u001b[1mStarted copy the class! - Philips Medical Systems\\test\\AD\u001b[0m\n",
      "\u001b[32m2024-09-03 19:49:49.229\u001b[0m | \u001b[1mINFO    \u001b[0m | \u001b[36mPreprocessing.mri_toolkit\u001b[0m:\u001b[36mgen_3d_to_2d\u001b[0m:\u001b[36m454\u001b[0m - \u001b[1mThe new directory is created! - c:\\Users\\doxda\\OneDrive\\Documentos\\Repos\\DAMS\\data\\preprocess\\ADNI1_T1_All_MRI\\6_step_nifti_2d\\Philips Medical Systems\\test\\AD\u001b[0m\n",
      "100%|██████████| 10/10 [00:01<00:00,  7.67it/s]\n",
      "\u001b[32m2024-09-03 19:49:50.534\u001b[0m | \u001b[1mINFO    \u001b[0m | \u001b[36mPreprocessing.mri_toolkit\u001b[0m:\u001b[36mgen_3d_to_2d\u001b[0m:\u001b[36m450\u001b[0m - \u001b[1mStarted copy the class! - Philips Medical Systems\\test\\CN\u001b[0m\n",
      "\u001b[32m2024-09-03 19:49:50.535\u001b[0m | \u001b[1mINFO    \u001b[0m | \u001b[36mPreprocessing.mri_toolkit\u001b[0m:\u001b[36mgen_3d_to_2d\u001b[0m:\u001b[36m454\u001b[0m - \u001b[1mThe new directory is created! - c:\\Users\\doxda\\OneDrive\\Documentos\\Repos\\DAMS\\data\\preprocess\\ADNI1_T1_All_MRI\\6_step_nifti_2d\\Philips Medical Systems\\test\\CN\u001b[0m\n",
      "100%|██████████| 13/13 [00:01<00:00,  7.68it/s]\n",
      "\u001b[32m2024-09-03 19:49:52.231\u001b[0m | \u001b[1mINFO    \u001b[0m | \u001b[36mPreprocessing.mri_toolkit\u001b[0m:\u001b[36mgen_3d_to_2d\u001b[0m:\u001b[36m450\u001b[0m - \u001b[1mStarted copy the class! - Philips Medical Systems\\test\\MCI\u001b[0m\n",
      "\u001b[32m2024-09-03 19:49:52.232\u001b[0m | \u001b[1mINFO    \u001b[0m | \u001b[36mPreprocessing.mri_toolkit\u001b[0m:\u001b[36mgen_3d_to_2d\u001b[0m:\u001b[36m454\u001b[0m - \u001b[1mThe new directory is created! - c:\\Users\\doxda\\OneDrive\\Documentos\\Repos\\DAMS\\data\\preprocess\\ADNI1_T1_All_MRI\\6_step_nifti_2d\\Philips Medical Systems\\test\\MCI\u001b[0m\n",
      "100%|██████████| 20/20 [00:02<00:00,  7.34it/s]\n",
      "\u001b[32m2024-09-03 19:49:54.958\u001b[0m | \u001b[1mINFO    \u001b[0m | \u001b[36mPreprocessing.mri_toolkit\u001b[0m:\u001b[36mgen_3d_to_2d\u001b[0m:\u001b[36m450\u001b[0m - \u001b[1mStarted copy the class! - Philips Medical Systems\\train\\AD\u001b[0m\n",
      "\u001b[32m2024-09-03 19:49:54.959\u001b[0m | \u001b[1mINFO    \u001b[0m | \u001b[36mPreprocessing.mri_toolkit\u001b[0m:\u001b[36mgen_3d_to_2d\u001b[0m:\u001b[36m454\u001b[0m - \u001b[1mThe new directory is created! - c:\\Users\\doxda\\OneDrive\\Documentos\\Repos\\DAMS\\data\\preprocess\\ADNI1_T1_All_MRI\\6_step_nifti_2d\\Philips Medical Systems\\train\\AD\u001b[0m\n",
      "100%|██████████| 47/47 [00:06<00:00,  7.48it/s]\n",
      "\u001b[32m2024-09-03 19:50:01.239\u001b[0m | \u001b[1mINFO    \u001b[0m | \u001b[36mPreprocessing.mri_toolkit\u001b[0m:\u001b[36mgen_3d_to_2d\u001b[0m:\u001b[36m450\u001b[0m - \u001b[1mStarted copy the class! - Philips Medical Systems\\train\\CN\u001b[0m\n",
      "\u001b[32m2024-09-03 19:50:01.240\u001b[0m | \u001b[1mINFO    \u001b[0m | \u001b[36mPreprocessing.mri_toolkit\u001b[0m:\u001b[36mgen_3d_to_2d\u001b[0m:\u001b[36m454\u001b[0m - \u001b[1mThe new directory is created! - c:\\Users\\doxda\\OneDrive\\Documentos\\Repos\\DAMS\\data\\preprocess\\ADNI1_T1_All_MRI\\6_step_nifti_2d\\Philips Medical Systems\\train\\CN\u001b[0m\n",
      "100%|██████████| 63/63 [00:08<00:00,  7.76it/s]\n",
      "\u001b[32m2024-09-03 19:50:09.357\u001b[0m | \u001b[1mINFO    \u001b[0m | \u001b[36mPreprocessing.mri_toolkit\u001b[0m:\u001b[36mgen_3d_to_2d\u001b[0m:\u001b[36m450\u001b[0m - \u001b[1mStarted copy the class! - Philips Medical Systems\\train\\MCI\u001b[0m\n",
      "\u001b[32m2024-09-03 19:50:09.358\u001b[0m | \u001b[1mINFO    \u001b[0m | \u001b[36mPreprocessing.mri_toolkit\u001b[0m:\u001b[36mgen_3d_to_2d\u001b[0m:\u001b[36m454\u001b[0m - \u001b[1mThe new directory is created! - c:\\Users\\doxda\\OneDrive\\Documentos\\Repos\\DAMS\\data\\preprocess\\ADNI1_T1_All_MRI\\6_step_nifti_2d\\Philips Medical Systems\\train\\MCI\u001b[0m\n",
      "100%|██████████| 95/95 [00:12<00:00,  7.55it/s]\n",
      "\u001b[32m2024-09-03 19:50:21.942\u001b[0m | \u001b[1mINFO    \u001b[0m | \u001b[36mPreprocessing.mri_toolkit\u001b[0m:\u001b[36mgen_3d_to_2d\u001b[0m:\u001b[36m450\u001b[0m - \u001b[1mStarted copy the class! - Philips Medical Systems\\val\\AD\u001b[0m\n",
      "\u001b[32m2024-09-03 19:50:21.943\u001b[0m | \u001b[1mINFO    \u001b[0m | \u001b[36mPreprocessing.mri_toolkit\u001b[0m:\u001b[36mgen_3d_to_2d\u001b[0m:\u001b[36m454\u001b[0m - \u001b[1mThe new directory is created! - c:\\Users\\doxda\\OneDrive\\Documentos\\Repos\\DAMS\\data\\preprocess\\ADNI1_T1_All_MRI\\6_step_nifti_2d\\Philips Medical Systems\\val\\AD\u001b[0m\n",
      "100%|██████████| 8/8 [00:01<00:00,  7.19it/s]\n",
      "\u001b[32m2024-09-03 19:50:23.058\u001b[0m | \u001b[1mINFO    \u001b[0m | \u001b[36mPreprocessing.mri_toolkit\u001b[0m:\u001b[36mgen_3d_to_2d\u001b[0m:\u001b[36m450\u001b[0m - \u001b[1mStarted copy the class! - Philips Medical Systems\\val\\CN\u001b[0m\n",
      "\u001b[32m2024-09-03 19:50:23.058\u001b[0m | \u001b[1mINFO    \u001b[0m | \u001b[36mPreprocessing.mri_toolkit\u001b[0m:\u001b[36mgen_3d_to_2d\u001b[0m:\u001b[36m454\u001b[0m - \u001b[1mThe new directory is created! - c:\\Users\\doxda\\OneDrive\\Documentos\\Repos\\DAMS\\data\\preprocess\\ADNI1_T1_All_MRI\\6_step_nifti_2d\\Philips Medical Systems\\val\\CN\u001b[0m\n",
      "100%|██████████| 12/12 [00:01<00:00,  7.41it/s]\n",
      "\u001b[32m2024-09-03 19:50:24.679\u001b[0m | \u001b[1mINFO    \u001b[0m | \u001b[36mPreprocessing.mri_toolkit\u001b[0m:\u001b[36mgen_3d_to_2d\u001b[0m:\u001b[36m450\u001b[0m - \u001b[1mStarted copy the class! - Philips Medical Systems\\val\\MCI\u001b[0m\n",
      "\u001b[32m2024-09-03 19:50:24.680\u001b[0m | \u001b[1mINFO    \u001b[0m | \u001b[36mPreprocessing.mri_toolkit\u001b[0m:\u001b[36mgen_3d_to_2d\u001b[0m:\u001b[36m454\u001b[0m - \u001b[1mThe new directory is created! - c:\\Users\\doxda\\OneDrive\\Documentos\\Repos\\DAMS\\data\\preprocess\\ADNI1_T1_All_MRI\\6_step_nifti_2d\\Philips Medical Systems\\val\\MCI\u001b[0m\n",
      "100%|██████████| 17/17 [00:02<00:00,  7.38it/s]\n",
      "\u001b[32m2024-09-03 19:50:26.984\u001b[0m | \u001b[1mINFO    \u001b[0m | \u001b[36mPreprocessing.mri_toolkit\u001b[0m:\u001b[36mgen_3d_to_2d\u001b[0m:\u001b[36m450\u001b[0m - \u001b[1mStarted copy the class! - SIEMENS\\test\\AD\u001b[0m\n",
      "\u001b[32m2024-09-03 19:50:26.986\u001b[0m | \u001b[1mINFO    \u001b[0m | \u001b[36mPreprocessing.mri_toolkit\u001b[0m:\u001b[36mgen_3d_to_2d\u001b[0m:\u001b[36m454\u001b[0m - \u001b[1mThe new directory is created! - c:\\Users\\doxda\\OneDrive\\Documentos\\Repos\\DAMS\\data\\preprocess\\ADNI1_T1_All_MRI\\6_step_nifti_2d\\SIEMENS\\test\\AD\u001b[0m\n",
      "100%|██████████| 30/30 [00:04<00:00,  7.46it/s]\n",
      "\u001b[32m2024-09-03 19:50:31.006\u001b[0m | \u001b[1mINFO    \u001b[0m | \u001b[36mPreprocessing.mri_toolkit\u001b[0m:\u001b[36mgen_3d_to_2d\u001b[0m:\u001b[36m450\u001b[0m - \u001b[1mStarted copy the class! - SIEMENS\\test\\CN\u001b[0m\n",
      "\u001b[32m2024-09-03 19:50:31.007\u001b[0m | \u001b[1mINFO    \u001b[0m | \u001b[36mPreprocessing.mri_toolkit\u001b[0m:\u001b[36mgen_3d_to_2d\u001b[0m:\u001b[36m454\u001b[0m - \u001b[1mThe new directory is created! - c:\\Users\\doxda\\OneDrive\\Documentos\\Repos\\DAMS\\data\\preprocess\\ADNI1_T1_All_MRI\\6_step_nifti_2d\\SIEMENS\\test\\CN\u001b[0m\n",
      "100%|██████████| 43/43 [00:05<00:00,  7.64it/s]\n",
      "\u001b[32m2024-09-03 19:50:36.636\u001b[0m | \u001b[1mINFO    \u001b[0m | \u001b[36mPreprocessing.mri_toolkit\u001b[0m:\u001b[36mgen_3d_to_2d\u001b[0m:\u001b[36m450\u001b[0m - \u001b[1mStarted copy the class! - SIEMENS\\test\\MCI\u001b[0m\n",
      "\u001b[32m2024-09-03 19:50:36.637\u001b[0m | \u001b[1mINFO    \u001b[0m | \u001b[36mPreprocessing.mri_toolkit\u001b[0m:\u001b[36mgen_3d_to_2d\u001b[0m:\u001b[36m454\u001b[0m - \u001b[1mThe new directory is created! - c:\\Users\\doxda\\OneDrive\\Documentos\\Repos\\DAMS\\data\\preprocess\\ADNI1_T1_All_MRI\\6_step_nifti_2d\\SIEMENS\\test\\MCI\u001b[0m\n",
      "100%|██████████| 68/68 [00:09<00:00,  7.53it/s]\n",
      "\u001b[32m2024-09-03 19:50:45.668\u001b[0m | \u001b[1mINFO    \u001b[0m | \u001b[36mPreprocessing.mri_toolkit\u001b[0m:\u001b[36mgen_3d_to_2d\u001b[0m:\u001b[36m450\u001b[0m - \u001b[1mStarted copy the class! - SIEMENS\\train\\AD\u001b[0m\n",
      "\u001b[32m2024-09-03 19:50:45.669\u001b[0m | \u001b[1mINFO    \u001b[0m | \u001b[36mPreprocessing.mri_toolkit\u001b[0m:\u001b[36mgen_3d_to_2d\u001b[0m:\u001b[36m454\u001b[0m - \u001b[1mThe new directory is created! - c:\\Users\\doxda\\OneDrive\\Documentos\\Repos\\DAMS\\data\\preprocess\\ADNI1_T1_All_MRI\\6_step_nifti_2d\\SIEMENS\\train\\AD\u001b[0m\n",
      "100%|██████████| 145/145 [00:19<00:00,  7.58it/s]\n",
      "\u001b[32m2024-09-03 19:51:04.809\u001b[0m | \u001b[1mINFO    \u001b[0m | \u001b[36mPreprocessing.mri_toolkit\u001b[0m:\u001b[36mgen_3d_to_2d\u001b[0m:\u001b[36m450\u001b[0m - \u001b[1mStarted copy the class! - SIEMENS\\train\\CN\u001b[0m\n",
      "\u001b[32m2024-09-03 19:51:04.809\u001b[0m | \u001b[1mINFO    \u001b[0m | \u001b[36mPreprocessing.mri_toolkit\u001b[0m:\u001b[36mgen_3d_to_2d\u001b[0m:\u001b[36m454\u001b[0m - \u001b[1mThe new directory is created! - c:\\Users\\doxda\\OneDrive\\Documentos\\Repos\\DAMS\\data\\preprocess\\ADNI1_T1_All_MRI\\6_step_nifti_2d\\SIEMENS\\train\\CN\u001b[0m\n",
      "100%|██████████| 204/204 [00:27<00:00,  7.53it/s]\n",
      "\u001b[32m2024-09-03 19:51:31.918\u001b[0m | \u001b[1mINFO    \u001b[0m | \u001b[36mPreprocessing.mri_toolkit\u001b[0m:\u001b[36mgen_3d_to_2d\u001b[0m:\u001b[36m450\u001b[0m - \u001b[1mStarted copy the class! - SIEMENS\\train\\MCI\u001b[0m\n",
      "\u001b[32m2024-09-03 19:51:31.919\u001b[0m | \u001b[1mINFO    \u001b[0m | \u001b[36mPreprocessing.mri_toolkit\u001b[0m:\u001b[36mgen_3d_to_2d\u001b[0m:\u001b[36m454\u001b[0m - \u001b[1mThe new directory is created! - c:\\Users\\doxda\\OneDrive\\Documentos\\Repos\\DAMS\\data\\preprocess\\ADNI1_T1_All_MRI\\6_step_nifti_2d\\SIEMENS\\train\\MCI\u001b[0m\n",
      "100%|██████████| 329/329 [00:43<00:00,  7.61it/s]\n",
      "\u001b[32m2024-09-03 19:52:15.135\u001b[0m | \u001b[1mINFO    \u001b[0m | \u001b[36mPreprocessing.mri_toolkit\u001b[0m:\u001b[36mgen_3d_to_2d\u001b[0m:\u001b[36m450\u001b[0m - \u001b[1mStarted copy the class! - SIEMENS\\val\\AD\u001b[0m\n",
      "\u001b[32m2024-09-03 19:52:15.136\u001b[0m | \u001b[1mINFO    \u001b[0m | \u001b[36mPreprocessing.mri_toolkit\u001b[0m:\u001b[36mgen_3d_to_2d\u001b[0m:\u001b[36m454\u001b[0m - \u001b[1mThe new directory is created! - c:\\Users\\doxda\\OneDrive\\Documentos\\Repos\\DAMS\\data\\preprocess\\ADNI1_T1_All_MRI\\6_step_nifti_2d\\SIEMENS\\val\\AD\u001b[0m\n",
      "100%|██████████| 26/26 [00:03<00:00,  7.99it/s]\n",
      "\u001b[32m2024-09-03 19:52:18.394\u001b[0m | \u001b[1mINFO    \u001b[0m | \u001b[36mPreprocessing.mri_toolkit\u001b[0m:\u001b[36mgen_3d_to_2d\u001b[0m:\u001b[36m450\u001b[0m - \u001b[1mStarted copy the class! - SIEMENS\\val\\CN\u001b[0m\n",
      "\u001b[32m2024-09-03 19:52:18.395\u001b[0m | \u001b[1mINFO    \u001b[0m | \u001b[36mPreprocessing.mri_toolkit\u001b[0m:\u001b[36mgen_3d_to_2d\u001b[0m:\u001b[36m454\u001b[0m - \u001b[1mThe new directory is created! - c:\\Users\\doxda\\OneDrive\\Documentos\\Repos\\DAMS\\data\\preprocess\\ADNI1_T1_All_MRI\\6_step_nifti_2d\\SIEMENS\\val\\CN\u001b[0m\n",
      "100%|██████████| 36/36 [00:04<00:00,  7.55it/s]\n",
      "\u001b[32m2024-09-03 19:52:23.165\u001b[0m | \u001b[1mINFO    \u001b[0m | \u001b[36mPreprocessing.mri_toolkit\u001b[0m:\u001b[36mgen_3d_to_2d\u001b[0m:\u001b[36m450\u001b[0m - \u001b[1mStarted copy the class! - SIEMENS\\val\\MCI\u001b[0m\n",
      "\u001b[32m2024-09-03 19:52:23.166\u001b[0m | \u001b[1mINFO    \u001b[0m | \u001b[36mPreprocessing.mri_toolkit\u001b[0m:\u001b[36mgen_3d_to_2d\u001b[0m:\u001b[36m454\u001b[0m - \u001b[1mThe new directory is created! - c:\\Users\\doxda\\OneDrive\\Documentos\\Repos\\DAMS\\data\\preprocess\\ADNI1_T1_All_MRI\\6_step_nifti_2d\\SIEMENS\\val\\MCI\u001b[0m\n",
      "100%|██████████| 58/58 [00:07<00:00,  7.52it/s]\n"
     ]
    }
   ],
   "source": [
    "preprocess_pipeline(\n",
    "    origin_path=r\"C:\\Users\\doxda\\OneDrive\\Documentos\\Repos\\masters-degree-data-shift\\data\\ADNI1\\Image\\ADNI-S-12-24-All-Dicom\",\n",
    "    df_path=r\"C:\\Users\\doxda\\OneDrive\\Documentos\\Repos\\masters-degree-data-shift\\analytics\\ADNI1-All\\ADNI1-Screening-T1-Collect.csv\",\n",
    "    dataset_name=\"ADNI1_T1_All_MRI\",\n",
    "    gen_2d=True,\n",
    "    column_class=\"Research Group\",\n",
    "    domain_manufacturer=True,\n",
    "    domain_model=False,\n",
    "    test_val=True,\n",
    ")"
   ]
  }
 ],
 "metadata": {
  "kernelspec": {
   "display_name": ".venv",
   "language": "python",
   "name": "python3"
  },
  "language_info": {
   "codemirror_mode": {
    "name": "ipython",
    "version": 3
   },
   "file_extension": ".py",
   "mimetype": "text/x-python",
   "name": "python",
   "nbconvert_exporter": "python",
   "pygments_lexer": "ipython3",
   "version": "3.11.5"
  }
 },
 "nbformat": 4,
 "nbformat_minor": 2
}
