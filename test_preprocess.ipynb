{
 "cells": [
  {
   "cell_type": "code",
   "execution_count": 1,
   "metadata": {},
   "outputs": [],
   "source": [
    "import os\n",
    "from Preprocessing.mri_toolkit import preprocess_pipeline"
   ]
  },
  {
   "cell_type": "code",
   "execution_count": 2,
   "metadata": {},
   "outputs": [],
   "source": [
    "BASE_DIR = os.path.dirname(os.path.abspath(\"__file__\"))"
   ]
  },
  {
   "cell_type": "code",
   "execution_count": 3,
   "metadata": {},
   "outputs": [
    {
     "name": "stderr",
     "output_type": "stream",
     "text": [
      "\u001b[32m2024-09-17 22:48:37.625\u001b[0m | \u001b[1mINFO    \u001b[0m | \u001b[36mPreprocessing.mri_toolkit\u001b[0m:\u001b[36mpreprocess_pipeline\u001b[0m:\u001b[36m525\u001b[0m - \u001b[1m1 Step - Transform Dicom to Nifti\u001b[0m\n",
      "\u001b[32m2024-09-17 22:48:37.626\u001b[0m | \u001b[1mINFO    \u001b[0m | \u001b[36mPreprocessing.mri_toolkit\u001b[0m:\u001b[36mverify_step\u001b[0m:\u001b[36m30\u001b[0m - \u001b[1mAlready done... Pass to next Step\u001b[0m\n",
      "\u001b[32m2024-09-17 22:48:37.626\u001b[0m | \u001b[1mINFO    \u001b[0m | \u001b[36mPreprocessing.mri_toolkit\u001b[0m:\u001b[36mpreprocess_pipeline\u001b[0m:\u001b[36m530\u001b[0m - \u001b[1m2 Step - Apply Skull Stripping\u001b[0m\n",
      "\u001b[32m2024-09-17 22:48:37.627\u001b[0m | \u001b[1mINFO    \u001b[0m | \u001b[36mPreprocessing.mri_toolkit\u001b[0m:\u001b[36mverify_step\u001b[0m:\u001b[36m30\u001b[0m - \u001b[1mAlready done... Pass to next Step\u001b[0m\n",
      "\u001b[32m2024-09-17 22:48:37.627\u001b[0m | \u001b[1mINFO    \u001b[0m | \u001b[36mPreprocessing.mri_toolkit\u001b[0m:\u001b[36mpreprocess_pipeline\u001b[0m:\u001b[36m535\u001b[0m - \u001b[1m3 Step - Apply Registration\u001b[0m\n",
      "\u001b[32m2024-09-17 22:48:37.628\u001b[0m | \u001b[1mINFO    \u001b[0m | \u001b[36mPreprocessing.mri_toolkit\u001b[0m:\u001b[36mverify_step\u001b[0m:\u001b[36m30\u001b[0m - \u001b[1mAlready done... Pass to next Step\u001b[0m\n",
      "\u001b[32m2024-09-17 22:48:37.628\u001b[0m | \u001b[1mINFO    \u001b[0m | \u001b[36mPreprocessing.mri_toolkit\u001b[0m:\u001b[36mpreprocess_pipeline\u001b[0m:\u001b[36m543\u001b[0m - \u001b[1m4 Step - Extract Relevant Slices\u001b[0m\n",
      "\u001b[32m2024-09-17 22:48:37.629\u001b[0m | \u001b[1mINFO    \u001b[0m | \u001b[36mPreprocessing.mri_toolkit\u001b[0m:\u001b[36mverify_step\u001b[0m:\u001b[36m30\u001b[0m - \u001b[1mAlready done... Pass to next Step\u001b[0m\n",
      "\u001b[32m2024-09-17 22:48:37.629\u001b[0m | \u001b[1mINFO    \u001b[0m | \u001b[36mPreprocessing.mri_toolkit\u001b[0m:\u001b[36mpreprocess_pipeline\u001b[0m:\u001b[36m548\u001b[0m - \u001b[1m5 Step - Generate class folders\u001b[0m\n",
      "\u001b[32m2024-09-17 22:48:37.647\u001b[0m | \u001b[1mINFO    \u001b[0m | \u001b[36mPreprocessing.mri_toolkit\u001b[0m:\u001b[36mgen_class_folders\u001b[0m:\u001b[36m367\u001b[0m - \u001b[1mCreate the With Domain\u001b[0m\n"
     ]
    },
    {
     "name": "stdout",
     "output_type": "stream",
     "text": [
      "The split for the domain Philips is: Train:232 / Val:41 / Test:49\n",
      "The split for the domain Siemens is: Train:674 / Val:119 / Test:141\n",
      "The split for the domain GE is: Train:415 / Val:74 / Test:87\n"
     ]
    },
    {
     "name": "stderr",
     "output_type": "stream",
     "text": [
      "\u001b[32m2024-09-17 22:48:48.506\u001b[0m | \u001b[1mINFO    \u001b[0m | \u001b[36mPreprocessing.mri_toolkit\u001b[0m:\u001b[36mpreprocess_pipeline\u001b[0m:\u001b[36m561\u001b[0m - \u001b[1m6 Step - Transform images 3D to 2D - Optional\u001b[0m\n",
      "\u001b[32m2024-09-17 22:48:48.507\u001b[0m | \u001b[1mINFO    \u001b[0m | \u001b[36mPreprocessing.mri_toolkit\u001b[0m:\u001b[36mtransform_3d_to_2d\u001b[0m:\u001b[36m487\u001b[0m - \u001b[1mThe new directory is created! - c:\\Users\\doxda\\OneDrive\\Documentos\\Repos\\DAMS\\data\\preprocess\\ADNI2-T1\\6_step_nifti_2d\u001b[0m\n",
      "\u001b[32m2024-09-17 22:48:48.511\u001b[0m | \u001b[1mINFO    \u001b[0m | \u001b[36mPreprocessing.mri_toolkit\u001b[0m:\u001b[36mgen_3d_to_2d\u001b[0m:\u001b[36m456\u001b[0m - \u001b[1mStarted copy the class! - GE\\test\\AD\u001b[0m\n",
      "\u001b[32m2024-09-17 22:48:48.512\u001b[0m | \u001b[1mINFO    \u001b[0m | \u001b[36mPreprocessing.mri_toolkit\u001b[0m:\u001b[36mgen_3d_to_2d\u001b[0m:\u001b[36m460\u001b[0m - \u001b[1mThe new directory is created! - c:\\Users\\doxda\\OneDrive\\Documentos\\Repos\\DAMS\\data\\preprocess\\ADNI2-T1\\6_step_nifti_2d\\GE\\test\\AD\u001b[0m\n",
      "100%|██████████| 25/25 [00:03<00:00,  7.57it/s]\n",
      "\u001b[32m2024-09-17 22:48:51.819\u001b[0m | \u001b[1mINFO    \u001b[0m | \u001b[36mPreprocessing.mri_toolkit\u001b[0m:\u001b[36mgen_3d_to_2d\u001b[0m:\u001b[36m456\u001b[0m - \u001b[1mStarted copy the class! - GE\\test\\CN\u001b[0m\n",
      "\u001b[32m2024-09-17 22:48:51.820\u001b[0m | \u001b[1mINFO    \u001b[0m | \u001b[36mPreprocessing.mri_toolkit\u001b[0m:\u001b[36mgen_3d_to_2d\u001b[0m:\u001b[36m460\u001b[0m - \u001b[1mThe new directory is created! - c:\\Users\\doxda\\OneDrive\\Documentos\\Repos\\DAMS\\data\\preprocess\\ADNI2-T1\\6_step_nifti_2d\\GE\\test\\CN\u001b[0m\n",
      "100%|██████████| 62/62 [00:07<00:00,  7.81it/s]\n",
      "\u001b[32m2024-09-17 22:48:59.763\u001b[0m | \u001b[1mINFO    \u001b[0m | \u001b[36mPreprocessing.mri_toolkit\u001b[0m:\u001b[36mgen_3d_to_2d\u001b[0m:\u001b[36m456\u001b[0m - \u001b[1mStarted copy the class! - GE\\train\\AD\u001b[0m\n",
      "\u001b[32m2024-09-17 22:48:59.765\u001b[0m | \u001b[1mINFO    \u001b[0m | \u001b[36mPreprocessing.mri_toolkit\u001b[0m:\u001b[36mgen_3d_to_2d\u001b[0m:\u001b[36m460\u001b[0m - \u001b[1mThe new directory is created! - c:\\Users\\doxda\\OneDrive\\Documentos\\Repos\\DAMS\\data\\preprocess\\ADNI2-T1\\6_step_nifti_2d\\GE\\train\\AD\u001b[0m\n",
      "100%|██████████| 121/121 [00:15<00:00,  7.90it/s]\n",
      "\u001b[32m2024-09-17 22:49:15.085\u001b[0m | \u001b[1mINFO    \u001b[0m | \u001b[36mPreprocessing.mri_toolkit\u001b[0m:\u001b[36mgen_3d_to_2d\u001b[0m:\u001b[36m456\u001b[0m - \u001b[1mStarted copy the class! - GE\\train\\CN\u001b[0m\n",
      "\u001b[32m2024-09-17 22:49:15.086\u001b[0m | \u001b[1mINFO    \u001b[0m | \u001b[36mPreprocessing.mri_toolkit\u001b[0m:\u001b[36mgen_3d_to_2d\u001b[0m:\u001b[36m460\u001b[0m - \u001b[1mThe new directory is created! - c:\\Users\\doxda\\OneDrive\\Documentos\\Repos\\DAMS\\data\\preprocess\\ADNI2-T1\\6_step_nifti_2d\\GE\\train\\CN\u001b[0m\n",
      "100%|██████████| 294/294 [00:36<00:00,  7.95it/s]\n",
      "\u001b[32m2024-09-17 22:49:52.064\u001b[0m | \u001b[1mINFO    \u001b[0m | \u001b[36mPreprocessing.mri_toolkit\u001b[0m:\u001b[36mgen_3d_to_2d\u001b[0m:\u001b[36m456\u001b[0m - \u001b[1mStarted copy the class! - GE\\val\\AD\u001b[0m\n",
      "\u001b[32m2024-09-17 22:49:52.066\u001b[0m | \u001b[1mINFO    \u001b[0m | \u001b[36mPreprocessing.mri_toolkit\u001b[0m:\u001b[36mgen_3d_to_2d\u001b[0m:\u001b[36m460\u001b[0m - \u001b[1mThe new directory is created! - c:\\Users\\doxda\\OneDrive\\Documentos\\Repos\\DAMS\\data\\preprocess\\ADNI2-T1\\6_step_nifti_2d\\GE\\val\\AD\u001b[0m\n",
      "100%|██████████| 22/22 [00:02<00:00,  8.05it/s]\n",
      "\u001b[32m2024-09-17 22:49:54.801\u001b[0m | \u001b[1mINFO    \u001b[0m | \u001b[36mPreprocessing.mri_toolkit\u001b[0m:\u001b[36mgen_3d_to_2d\u001b[0m:\u001b[36m456\u001b[0m - \u001b[1mStarted copy the class! - GE\\val\\CN\u001b[0m\n",
      "\u001b[32m2024-09-17 22:49:54.802\u001b[0m | \u001b[1mINFO    \u001b[0m | \u001b[36mPreprocessing.mri_toolkit\u001b[0m:\u001b[36mgen_3d_to_2d\u001b[0m:\u001b[36m460\u001b[0m - \u001b[1mThe new directory is created! - c:\\Users\\doxda\\OneDrive\\Documentos\\Repos\\DAMS\\data\\preprocess\\ADNI2-T1\\6_step_nifti_2d\\GE\\val\\CN\u001b[0m\n",
      "100%|██████████| 52/52 [00:06<00:00,  7.68it/s]\n",
      "\u001b[32m2024-09-17 22:50:01.575\u001b[0m | \u001b[1mINFO    \u001b[0m | \u001b[36mPreprocessing.mri_toolkit\u001b[0m:\u001b[36mgen_3d_to_2d\u001b[0m:\u001b[36m456\u001b[0m - \u001b[1mStarted copy the class! - Philips\\test\\AD\u001b[0m\n",
      "\u001b[32m2024-09-17 22:50:01.576\u001b[0m | \u001b[1mINFO    \u001b[0m | \u001b[36mPreprocessing.mri_toolkit\u001b[0m:\u001b[36mgen_3d_to_2d\u001b[0m:\u001b[36m460\u001b[0m - \u001b[1mThe new directory is created! - c:\\Users\\doxda\\OneDrive\\Documentos\\Repos\\DAMS\\data\\preprocess\\ADNI2-T1\\6_step_nifti_2d\\Philips\\test\\AD\u001b[0m\n",
      "100%|██████████| 16/16 [00:01<00:00,  8.05it/s]\n",
      "\u001b[32m2024-09-17 22:50:03.565\u001b[0m | \u001b[1mINFO    \u001b[0m | \u001b[36mPreprocessing.mri_toolkit\u001b[0m:\u001b[36mgen_3d_to_2d\u001b[0m:\u001b[36m456\u001b[0m - \u001b[1mStarted copy the class! - Philips\\test\\CN\u001b[0m\n",
      "\u001b[32m2024-09-17 22:50:03.566\u001b[0m | \u001b[1mINFO    \u001b[0m | \u001b[36mPreprocessing.mri_toolkit\u001b[0m:\u001b[36mgen_3d_to_2d\u001b[0m:\u001b[36m460\u001b[0m - \u001b[1mThe new directory is created! - c:\\Users\\doxda\\OneDrive\\Documentos\\Repos\\DAMS\\data\\preprocess\\ADNI2-T1\\6_step_nifti_2d\\Philips\\test\\CN\u001b[0m\n",
      "100%|██████████| 33/33 [00:04<00:00,  7.76it/s]\n",
      "\u001b[32m2024-09-17 22:50:07.819\u001b[0m | \u001b[1mINFO    \u001b[0m | \u001b[36mPreprocessing.mri_toolkit\u001b[0m:\u001b[36mgen_3d_to_2d\u001b[0m:\u001b[36m456\u001b[0m - \u001b[1mStarted copy the class! - Philips\\train\\AD\u001b[0m\n",
      "\u001b[32m2024-09-17 22:50:07.820\u001b[0m | \u001b[1mINFO    \u001b[0m | \u001b[36mPreprocessing.mri_toolkit\u001b[0m:\u001b[36mgen_3d_to_2d\u001b[0m:\u001b[36m460\u001b[0m - \u001b[1mThe new directory is created! - c:\\Users\\doxda\\OneDrive\\Documentos\\Repos\\DAMS\\data\\preprocess\\ADNI2-T1\\6_step_nifti_2d\\Philips\\train\\AD\u001b[0m\n",
      "100%|██████████| 77/77 [00:09<00:00,  7.89it/s]\n",
      "\u001b[32m2024-09-17 22:50:17.580\u001b[0m | \u001b[1mINFO    \u001b[0m | \u001b[36mPreprocessing.mri_toolkit\u001b[0m:\u001b[36mgen_3d_to_2d\u001b[0m:\u001b[36m456\u001b[0m - \u001b[1mStarted copy the class! - Philips\\train\\CN\u001b[0m\n",
      "\u001b[32m2024-09-17 22:50:17.581\u001b[0m | \u001b[1mINFO    \u001b[0m | \u001b[36mPreprocessing.mri_toolkit\u001b[0m:\u001b[36mgen_3d_to_2d\u001b[0m:\u001b[36m460\u001b[0m - \u001b[1mThe new directory is created! - c:\\Users\\doxda\\OneDrive\\Documentos\\Repos\\DAMS\\data\\preprocess\\ADNI2-T1\\6_step_nifti_2d\\Philips\\train\\CN\u001b[0m\n",
      "100%|██████████| 155/155 [00:19<00:00,  7.90it/s]\n",
      "\u001b[32m2024-09-17 22:50:37.200\u001b[0m | \u001b[1mINFO    \u001b[0m | \u001b[36mPreprocessing.mri_toolkit\u001b[0m:\u001b[36mgen_3d_to_2d\u001b[0m:\u001b[36m456\u001b[0m - \u001b[1mStarted copy the class! - Philips\\val\\AD\u001b[0m\n",
      "\u001b[32m2024-09-17 22:50:37.201\u001b[0m | \u001b[1mINFO    \u001b[0m | \u001b[36mPreprocessing.mri_toolkit\u001b[0m:\u001b[36mgen_3d_to_2d\u001b[0m:\u001b[36m460\u001b[0m - \u001b[1mThe new directory is created! - c:\\Users\\doxda\\OneDrive\\Documentos\\Repos\\DAMS\\data\\preprocess\\ADNI2-T1\\6_step_nifti_2d\\Philips\\val\\AD\u001b[0m\n",
      "100%|██████████| 14/14 [00:01<00:00,  8.14it/s]\n",
      "\u001b[32m2024-09-17 22:50:38.923\u001b[0m | \u001b[1mINFO    \u001b[0m | \u001b[36mPreprocessing.mri_toolkit\u001b[0m:\u001b[36mgen_3d_to_2d\u001b[0m:\u001b[36m456\u001b[0m - \u001b[1mStarted copy the class! - Philips\\val\\CN\u001b[0m\n",
      "\u001b[32m2024-09-17 22:50:38.924\u001b[0m | \u001b[1mINFO    \u001b[0m | \u001b[36mPreprocessing.mri_toolkit\u001b[0m:\u001b[36mgen_3d_to_2d\u001b[0m:\u001b[36m460\u001b[0m - \u001b[1mThe new directory is created! - c:\\Users\\doxda\\OneDrive\\Documentos\\Repos\\DAMS\\data\\preprocess\\ADNI2-T1\\6_step_nifti_2d\\Philips\\val\\CN\u001b[0m\n",
      "100%|██████████| 27/27 [00:03<00:00,  8.16it/s]\n",
      "\u001b[32m2024-09-17 22:50:42.232\u001b[0m | \u001b[1mINFO    \u001b[0m | \u001b[36mPreprocessing.mri_toolkit\u001b[0m:\u001b[36mgen_3d_to_2d\u001b[0m:\u001b[36m456\u001b[0m - \u001b[1mStarted copy the class! - Siemens\\test\\AD\u001b[0m\n",
      "\u001b[32m2024-09-17 22:50:42.233\u001b[0m | \u001b[1mINFO    \u001b[0m | \u001b[36mPreprocessing.mri_toolkit\u001b[0m:\u001b[36mgen_3d_to_2d\u001b[0m:\u001b[36m460\u001b[0m - \u001b[1mThe new directory is created! - c:\\Users\\doxda\\OneDrive\\Documentos\\Repos\\DAMS\\data\\preprocess\\ADNI2-T1\\6_step_nifti_2d\\Siemens\\test\\AD\u001b[0m\n",
      "100%|██████████| 35/35 [00:04<00:00,  7.98it/s]\n",
      "\u001b[32m2024-09-17 22:50:46.624\u001b[0m | \u001b[1mINFO    \u001b[0m | \u001b[36mPreprocessing.mri_toolkit\u001b[0m:\u001b[36mgen_3d_to_2d\u001b[0m:\u001b[36m456\u001b[0m - \u001b[1mStarted copy the class! - Siemens\\test\\CN\u001b[0m\n",
      "\u001b[32m2024-09-17 22:50:46.625\u001b[0m | \u001b[1mINFO    \u001b[0m | \u001b[36mPreprocessing.mri_toolkit\u001b[0m:\u001b[36mgen_3d_to_2d\u001b[0m:\u001b[36m460\u001b[0m - \u001b[1mThe new directory is created! - c:\\Users\\doxda\\OneDrive\\Documentos\\Repos\\DAMS\\data\\preprocess\\ADNI2-T1\\6_step_nifti_2d\\Siemens\\test\\CN\u001b[0m\n",
      "100%|██████████| 106/106 [00:13<00:00,  7.94it/s]\n",
      "\u001b[32m2024-09-17 22:50:59.973\u001b[0m | \u001b[1mINFO    \u001b[0m | \u001b[36mPreprocessing.mri_toolkit\u001b[0m:\u001b[36mgen_3d_to_2d\u001b[0m:\u001b[36m456\u001b[0m - \u001b[1mStarted copy the class! - Siemens\\train\\AD\u001b[0m\n",
      "\u001b[32m2024-09-17 22:50:59.974\u001b[0m | \u001b[1mINFO    \u001b[0m | \u001b[36mPreprocessing.mri_toolkit\u001b[0m:\u001b[36mgen_3d_to_2d\u001b[0m:\u001b[36m460\u001b[0m - \u001b[1mThe new directory is created! - c:\\Users\\doxda\\OneDrive\\Documentos\\Repos\\DAMS\\data\\preprocess\\ADNI2-T1\\6_step_nifti_2d\\Siemens\\train\\AD\u001b[0m\n",
      "100%|██████████| 167/167 [00:20<00:00,  8.00it/s]\n",
      "\u001b[32m2024-09-17 22:51:20.857\u001b[0m | \u001b[1mINFO    \u001b[0m | \u001b[36mPreprocessing.mri_toolkit\u001b[0m:\u001b[36mgen_3d_to_2d\u001b[0m:\u001b[36m456\u001b[0m - \u001b[1mStarted copy the class! - Siemens\\train\\CN\u001b[0m\n",
      "\u001b[32m2024-09-17 22:51:20.858\u001b[0m | \u001b[1mINFO    \u001b[0m | \u001b[36mPreprocessing.mri_toolkit\u001b[0m:\u001b[36mgen_3d_to_2d\u001b[0m:\u001b[36m460\u001b[0m - \u001b[1mThe new directory is created! - c:\\Users\\doxda\\OneDrive\\Documentos\\Repos\\DAMS\\data\\preprocess\\ADNI2-T1\\6_step_nifti_2d\\Siemens\\train\\CN\u001b[0m\n",
      "100%|██████████| 507/507 [01:03<00:00,  7.99it/s]\n",
      "\u001b[32m2024-09-17 22:52:24.334\u001b[0m | \u001b[1mINFO    \u001b[0m | \u001b[36mPreprocessing.mri_toolkit\u001b[0m:\u001b[36mgen_3d_to_2d\u001b[0m:\u001b[36m456\u001b[0m - \u001b[1mStarted copy the class! - Siemens\\val\\AD\u001b[0m\n",
      "\u001b[32m2024-09-17 22:52:24.335\u001b[0m | \u001b[1mINFO    \u001b[0m | \u001b[36mPreprocessing.mri_toolkit\u001b[0m:\u001b[36mgen_3d_to_2d\u001b[0m:\u001b[36m460\u001b[0m - \u001b[1mThe new directory is created! - c:\\Users\\doxda\\OneDrive\\Documentos\\Repos\\DAMS\\data\\preprocess\\ADNI2-T1\\6_step_nifti_2d\\Siemens\\val\\AD\u001b[0m\n",
      "100%|██████████| 29/29 [00:03<00:00,  7.99it/s]\n",
      "\u001b[32m2024-09-17 22:52:27.965\u001b[0m | \u001b[1mINFO    \u001b[0m | \u001b[36mPreprocessing.mri_toolkit\u001b[0m:\u001b[36mgen_3d_to_2d\u001b[0m:\u001b[36m456\u001b[0m - \u001b[1mStarted copy the class! - Siemens\\val\\CN\u001b[0m\n",
      "\u001b[32m2024-09-17 22:52:27.965\u001b[0m | \u001b[1mINFO    \u001b[0m | \u001b[36mPreprocessing.mri_toolkit\u001b[0m:\u001b[36mgen_3d_to_2d\u001b[0m:\u001b[36m460\u001b[0m - \u001b[1mThe new directory is created! - c:\\Users\\doxda\\OneDrive\\Documentos\\Repos\\DAMS\\data\\preprocess\\ADNI2-T1\\6_step_nifti_2d\\Siemens\\val\\CN\u001b[0m\n",
      "100%|██████████| 90/90 [00:11<00:00,  8.09it/s]\n"
     ]
    }
   ],
   "source": [
    "preprocess_pipeline(\n",
    "    origin_path=r\"c:\\Users\\doxda\\OneDrive\\Documentos\\Repos\\masters-degree-data-shift\\data\\ADNI2\\Image\\ADNI2-Dicom\",\n",
    "    df_path=r\"C:\\Users\\doxda\\OneDrive\\Documentos\\Repos\\masters-degree-data-shift\\analytics\\ADNI2\\ADNI2-T1-Collect.csv\",\n",
    "    dataset_name=\"ADNI2-T1\",\n",
    "    gen_2d=True,\n",
    "    column_class=\"Research Group\",\n",
    "    domain_manufacturer=True,\n",
    "    domain_model=False,\n",
    "    test_val=True,\n",
    ")"
   ]
  }
 ],
 "metadata": {
  "kernelspec": {
   "display_name": ".venv",
   "language": "python",
   "name": "python3"
  },
  "language_info": {
   "codemirror_mode": {
    "name": "ipython",
    "version": 3
   },
   "file_extension": ".py",
   "mimetype": "text/x-python",
   "name": "python",
   "nbconvert_exporter": "python",
   "pygments_lexer": "ipython3",
   "version": "3.11.5"
  }
 },
 "nbformat": 4,
 "nbformat_minor": 2
}
