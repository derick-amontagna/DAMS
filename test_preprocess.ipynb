{
 "cells": [
  {
   "cell_type": "code",
   "execution_count": 1,
   "metadata": {},
   "outputs": [],
   "source": [
    "import os\n",
    "from Preprocessing.mri_toolkit import preprocess_pipeline"
   ]
  },
  {
   "cell_type": "code",
   "execution_count": 2,
   "metadata": {},
   "outputs": [],
   "source": [
    "BASE_DIR = os.path.dirname(os.path.abspath(\"__file__\"))"
   ]
  },
  {
   "cell_type": "code",
   "execution_count": null,
   "metadata": {},
   "outputs": [],
   "source": [
    "preprocess_pipeline(\n",
    "    origin_path=r\"C:\\Users\\doxda\\OneDrive\\Documentos\\Repos\\masters-degree-data-shift\\data\\ADNI1\\Image\\ADNI-S-12-24-All-Dicom\",\n",
    "    df_path=r\"C:\\Users\\doxda\\OneDrive\\Documentos\\Repos\\masters-degree-data-shift\\analytics\\ADNI1-All\\ADNI1-Screening-T1-Collect.csv\",\n",
    "    dataset_name=\"ADNI1_T1_All_MRI\",\n",
    "    gen_2d=True,\n",
    "    column_class=\"Research Group\",\n",
    "    domain_manufacturer=True,\n",
    "    domain_model=False,\n",
    "    test_val=True,\n",
    ")"
   ]
  }
 ],
 "metadata": {
  "kernelspec": {
   "display_name": ".venv",
   "language": "python",
   "name": "python3"
  },
  "language_info": {
   "codemirror_mode": {
    "name": "ipython",
    "version": 3
   },
   "file_extension": ".py",
   "mimetype": "text/x-python",
   "name": "python",
   "nbconvert_exporter": "python",
   "pygments_lexer": "ipython3",
   "version": "3.11.5"
  }
 },
 "nbformat": 4,
 "nbformat_minor": 2
}
